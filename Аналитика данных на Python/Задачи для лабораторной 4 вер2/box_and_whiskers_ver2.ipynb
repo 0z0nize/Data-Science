{
 "cells": [
  {
   "cell_type": "markdown",
   "id": "dac5b24a-ad30-4618-a961-395e71259c99",
   "metadata": {},
   "source": [
    "Лабораторная работа по теме Проверка статистических гипотез\n",
    "Выполнил студент 1 курса магистратуры Аналитака данных - Владислав Шкаровский, группа S4101"
   ]
  },
  {
   "cell_type": "raw",
   "id": "01387fc2-9fac-450a-8728-b09fe1e96eaf",
   "metadata": {},
   "source": [
    "Задача:\n",
    "\n",
    "Используем набор данных Ames Housing, \n",
    "который рассматривался на первых лекциях. \n",
    "\n",
    "Сравниваем цены домов (SalePrice) в двух группах.\n",
    "Группы определяются по значениям количественных переменных, \n",
    "то есть по переменным из списка, определенного командой \n",
    "AH.describe(include=[np.number]). \n",
    "\n",
    "Для примера используем переменную площадь дома (Gr Liv Area).\n",
    "Группы определяются условием \n",
    "значение переменной Gr Liv Area больше медианы или \n",
    "значение переменной Gr Liv Area меньше медианы. \n",
    "\n",
    "Выбрать гипотезу для проверки. \n",
    "Либо гипотезу о равенстве математических ожиданий или гипотезу о равенстве медиан. \n",
    "\n",
    "Обосновать выбор. \n",
    "Проверить гипотезу. \n",
    "Проиллюстрировать результат ящиком с усами.\n",
    "\n",
    "Самостоятельно выбрать две переменные, \n",
    "то есть сравнение производим ДВАЖДЫ, для двух разных переменных.\n",
    "В качестве группирующей переменной нельзя использовать переменные\n",
    "SalePrice и Gr Liv Area."
   ]
  },
  {
   "cell_type": "code",
   "execution_count": 453,
   "id": "67fd91aa-c077-48cc-94cd-7b443573e7ec",
   "metadata": {},
   "outputs": [],
   "source": [
    "# Первым делом импортируем необходимые библиотеки и настроим отображение\n",
    "import os\n",
    "import pandas as pd\n",
    "import numpy as np\n",
    "import matplotlib \n",
    "import matplotlib.pyplot as plt\n",
    "import seaborn as sns\n",
    "\n",
    "from scipy import stats\n",
    "\n",
    "matplotlib.style.use('ggplot')\n",
    "%matplotlib inline"
   ]
  },
  {
   "cell_type": "code",
   "execution_count": 455,
   "id": "3c807bdd-9baa-43c4-80a7-ffb171016e59",
   "metadata": {},
   "outputs": [],
   "source": [
    "# Назначим папку рабочей директории проекта\n",
    "os.chdir(\"E:\\\\ИТМО\\\\Магистратура\\\\01 Семестр\\\\Анализ данных на Python\\\\Задачи для лабораторной 4 вер2\\\\Ames_dataset\")"
   ]
  },
  {
   "cell_type": "code",
   "execution_count": 457,
   "id": "4890059d-dfeb-4813-867a-7a9d7b919406",
   "metadata": {},
   "outputs": [
    {
     "data": {
      "text/html": [
       "<div>\n",
       "<style scoped>\n",
       "    .dataframe tbody tr th:only-of-type {\n",
       "        vertical-align: middle;\n",
       "    }\n",
       "\n",
       "    .dataframe tbody tr th {\n",
       "        vertical-align: top;\n",
       "    }\n",
       "\n",
       "    .dataframe thead th {\n",
       "        text-align: right;\n",
       "    }\n",
       "</style>\n",
       "<table border=\"1\" class=\"dataframe\">\n",
       "  <thead>\n",
       "    <tr style=\"text-align: right;\">\n",
       "      <th></th>\n",
       "      <th>Order</th>\n",
       "      <th>PID</th>\n",
       "      <th>MS SubClass</th>\n",
       "      <th>MS Zoning</th>\n",
       "      <th>Lot Frontage</th>\n",
       "      <th>Lot Area</th>\n",
       "      <th>Street</th>\n",
       "      <th>Alley</th>\n",
       "      <th>Lot Shape</th>\n",
       "      <th>Land Contour</th>\n",
       "      <th>...</th>\n",
       "      <th>Pool Area</th>\n",
       "      <th>Pool QC</th>\n",
       "      <th>Fence</th>\n",
       "      <th>Misc Feature</th>\n",
       "      <th>Misc Val</th>\n",
       "      <th>Mo Sold</th>\n",
       "      <th>Yr Sold</th>\n",
       "      <th>Sale Type</th>\n",
       "      <th>Sale Condition</th>\n",
       "      <th>SalePrice</th>\n",
       "    </tr>\n",
       "  </thead>\n",
       "  <tbody>\n",
       "    <tr>\n",
       "      <th>0</th>\n",
       "      <td>1</td>\n",
       "      <td>526301100</td>\n",
       "      <td>20</td>\n",
       "      <td>RL</td>\n",
       "      <td>141.0</td>\n",
       "      <td>31770</td>\n",
       "      <td>Pave</td>\n",
       "      <td>NaN</td>\n",
       "      <td>IR1</td>\n",
       "      <td>Lvl</td>\n",
       "      <td>...</td>\n",
       "      <td>0</td>\n",
       "      <td>NaN</td>\n",
       "      <td>NaN</td>\n",
       "      <td>NaN</td>\n",
       "      <td>0</td>\n",
       "      <td>5</td>\n",
       "      <td>2010</td>\n",
       "      <td>WD</td>\n",
       "      <td>Normal</td>\n",
       "      <td>215000</td>\n",
       "    </tr>\n",
       "    <tr>\n",
       "      <th>1</th>\n",
       "      <td>2</td>\n",
       "      <td>526350040</td>\n",
       "      <td>20</td>\n",
       "      <td>RH</td>\n",
       "      <td>80.0</td>\n",
       "      <td>11622</td>\n",
       "      <td>Pave</td>\n",
       "      <td>NaN</td>\n",
       "      <td>Reg</td>\n",
       "      <td>Lvl</td>\n",
       "      <td>...</td>\n",
       "      <td>0</td>\n",
       "      <td>NaN</td>\n",
       "      <td>MnPrv</td>\n",
       "      <td>NaN</td>\n",
       "      <td>0</td>\n",
       "      <td>6</td>\n",
       "      <td>2010</td>\n",
       "      <td>WD</td>\n",
       "      <td>Normal</td>\n",
       "      <td>105000</td>\n",
       "    </tr>\n",
       "    <tr>\n",
       "      <th>2</th>\n",
       "      <td>3</td>\n",
       "      <td>526351010</td>\n",
       "      <td>20</td>\n",
       "      <td>RL</td>\n",
       "      <td>81.0</td>\n",
       "      <td>14267</td>\n",
       "      <td>Pave</td>\n",
       "      <td>NaN</td>\n",
       "      <td>IR1</td>\n",
       "      <td>Lvl</td>\n",
       "      <td>...</td>\n",
       "      <td>0</td>\n",
       "      <td>NaN</td>\n",
       "      <td>NaN</td>\n",
       "      <td>Gar2</td>\n",
       "      <td>12500</td>\n",
       "      <td>6</td>\n",
       "      <td>2010</td>\n",
       "      <td>WD</td>\n",
       "      <td>Normal</td>\n",
       "      <td>172000</td>\n",
       "    </tr>\n",
       "    <tr>\n",
       "      <th>3</th>\n",
       "      <td>4</td>\n",
       "      <td>526353030</td>\n",
       "      <td>20</td>\n",
       "      <td>RL</td>\n",
       "      <td>93.0</td>\n",
       "      <td>11160</td>\n",
       "      <td>Pave</td>\n",
       "      <td>NaN</td>\n",
       "      <td>Reg</td>\n",
       "      <td>Lvl</td>\n",
       "      <td>...</td>\n",
       "      <td>0</td>\n",
       "      <td>NaN</td>\n",
       "      <td>NaN</td>\n",
       "      <td>NaN</td>\n",
       "      <td>0</td>\n",
       "      <td>4</td>\n",
       "      <td>2010</td>\n",
       "      <td>WD</td>\n",
       "      <td>Normal</td>\n",
       "      <td>244000</td>\n",
       "    </tr>\n",
       "    <tr>\n",
       "      <th>4</th>\n",
       "      <td>5</td>\n",
       "      <td>527105010</td>\n",
       "      <td>60</td>\n",
       "      <td>RL</td>\n",
       "      <td>74.0</td>\n",
       "      <td>13830</td>\n",
       "      <td>Pave</td>\n",
       "      <td>NaN</td>\n",
       "      <td>IR1</td>\n",
       "      <td>Lvl</td>\n",
       "      <td>...</td>\n",
       "      <td>0</td>\n",
       "      <td>NaN</td>\n",
       "      <td>MnPrv</td>\n",
       "      <td>NaN</td>\n",
       "      <td>0</td>\n",
       "      <td>3</td>\n",
       "      <td>2010</td>\n",
       "      <td>WD</td>\n",
       "      <td>Normal</td>\n",
       "      <td>189900</td>\n",
       "    </tr>\n",
       "  </tbody>\n",
       "</table>\n",
       "<p>5 rows × 82 columns</p>\n",
       "</div>"
      ],
      "text/plain": [
       "   Order        PID  MS SubClass MS Zoning  Lot Frontage  Lot Area Street  \\\n",
       "0      1  526301100           20        RL         141.0     31770   Pave   \n",
       "1      2  526350040           20        RH          80.0     11622   Pave   \n",
       "2      3  526351010           20        RL          81.0     14267   Pave   \n",
       "3      4  526353030           20        RL          93.0     11160   Pave   \n",
       "4      5  527105010           60        RL          74.0     13830   Pave   \n",
       "\n",
       "  Alley Lot Shape Land Contour  ... Pool Area Pool QC  Fence Misc Feature  \\\n",
       "0   NaN       IR1          Lvl  ...         0     NaN    NaN          NaN   \n",
       "1   NaN       Reg          Lvl  ...         0     NaN  MnPrv          NaN   \n",
       "2   NaN       IR1          Lvl  ...         0     NaN    NaN         Gar2   \n",
       "3   NaN       Reg          Lvl  ...         0     NaN    NaN          NaN   \n",
       "4   NaN       IR1          Lvl  ...         0     NaN  MnPrv          NaN   \n",
       "\n",
       "  Misc Val Mo Sold Yr Sold Sale Type  Sale Condition  SalePrice  \n",
       "0        0       5    2010       WD           Normal     215000  \n",
       "1        0       6    2010       WD           Normal     105000  \n",
       "2    12500       6    2010       WD           Normal     172000  \n",
       "3        0       4    2010       WD           Normal     244000  \n",
       "4        0       3    2010       WD           Normal     189900  \n",
       "\n",
       "[5 rows x 82 columns]"
      ]
     },
     "execution_count": 457,
     "metadata": {},
     "output_type": "execute_result"
    }
   ],
   "source": [
    "# Импортируем данные из файла используя разделитель ';' и отобразим первые записи\n",
    "AH = pd.read_csv('AmesHousing.txt', sep=\"\\t\")\n",
    "AH.head()"
   ]
  },
  {
   "cell_type": "code",
   "execution_count": 459,
   "id": "2e1331a4-2dca-423f-abd8-d0d49a7ba591",
   "metadata": {},
   "outputs": [
    {
     "data": {
      "text/html": [
       "<div>\n",
       "<style scoped>\n",
       "    .dataframe tbody tr th:only-of-type {\n",
       "        vertical-align: middle;\n",
       "    }\n",
       "\n",
       "    .dataframe tbody tr th {\n",
       "        vertical-align: top;\n",
       "    }\n",
       "\n",
       "    .dataframe thead th {\n",
       "        text-align: right;\n",
       "    }\n",
       "</style>\n",
       "<table border=\"1\" class=\"dataframe\">\n",
       "  <thead>\n",
       "    <tr style=\"text-align: right;\">\n",
       "      <th></th>\n",
       "      <th>Order</th>\n",
       "      <th>PID</th>\n",
       "      <th>MS SubClass</th>\n",
       "      <th>Lot Frontage</th>\n",
       "      <th>Lot Area</th>\n",
       "      <th>Overall Qual</th>\n",
       "      <th>Overall Cond</th>\n",
       "      <th>Year Built</th>\n",
       "      <th>Year Remod/Add</th>\n",
       "      <th>Mas Vnr Area</th>\n",
       "      <th>...</th>\n",
       "      <th>Wood Deck SF</th>\n",
       "      <th>Open Porch SF</th>\n",
       "      <th>Enclosed Porch</th>\n",
       "      <th>3Ssn Porch</th>\n",
       "      <th>Screen Porch</th>\n",
       "      <th>Pool Area</th>\n",
       "      <th>Misc Val</th>\n",
       "      <th>Mo Sold</th>\n",
       "      <th>Yr Sold</th>\n",
       "      <th>SalePrice</th>\n",
       "    </tr>\n",
       "  </thead>\n",
       "  <tbody>\n",
       "    <tr>\n",
       "      <th>count</th>\n",
       "      <td>2930.00000</td>\n",
       "      <td>2.930000e+03</td>\n",
       "      <td>2930.000000</td>\n",
       "      <td>2440.000000</td>\n",
       "      <td>2930.000000</td>\n",
       "      <td>2930.000000</td>\n",
       "      <td>2930.000000</td>\n",
       "      <td>2930.000000</td>\n",
       "      <td>2930.000000</td>\n",
       "      <td>2907.000000</td>\n",
       "      <td>...</td>\n",
       "      <td>2930.000000</td>\n",
       "      <td>2930.000000</td>\n",
       "      <td>2930.000000</td>\n",
       "      <td>2930.000000</td>\n",
       "      <td>2930.000000</td>\n",
       "      <td>2930.000000</td>\n",
       "      <td>2930.000000</td>\n",
       "      <td>2930.000000</td>\n",
       "      <td>2930.000000</td>\n",
       "      <td>2930.000000</td>\n",
       "    </tr>\n",
       "    <tr>\n",
       "      <th>mean</th>\n",
       "      <td>1465.50000</td>\n",
       "      <td>7.144645e+08</td>\n",
       "      <td>57.387372</td>\n",
       "      <td>69.224590</td>\n",
       "      <td>10147.921843</td>\n",
       "      <td>6.094881</td>\n",
       "      <td>5.563140</td>\n",
       "      <td>1971.356314</td>\n",
       "      <td>1984.266553</td>\n",
       "      <td>101.896801</td>\n",
       "      <td>...</td>\n",
       "      <td>93.751877</td>\n",
       "      <td>47.533447</td>\n",
       "      <td>23.011604</td>\n",
       "      <td>2.592491</td>\n",
       "      <td>16.002048</td>\n",
       "      <td>2.243345</td>\n",
       "      <td>50.635154</td>\n",
       "      <td>6.216041</td>\n",
       "      <td>2007.790444</td>\n",
       "      <td>180796.060068</td>\n",
       "    </tr>\n",
       "    <tr>\n",
       "      <th>std</th>\n",
       "      <td>845.96247</td>\n",
       "      <td>1.887308e+08</td>\n",
       "      <td>42.638025</td>\n",
       "      <td>23.365335</td>\n",
       "      <td>7880.017759</td>\n",
       "      <td>1.411026</td>\n",
       "      <td>1.111537</td>\n",
       "      <td>30.245361</td>\n",
       "      <td>20.860286</td>\n",
       "      <td>179.112611</td>\n",
       "      <td>...</td>\n",
       "      <td>126.361562</td>\n",
       "      <td>67.483400</td>\n",
       "      <td>64.139059</td>\n",
       "      <td>25.141331</td>\n",
       "      <td>56.087370</td>\n",
       "      <td>35.597181</td>\n",
       "      <td>566.344288</td>\n",
       "      <td>2.714492</td>\n",
       "      <td>1.316613</td>\n",
       "      <td>79886.692357</td>\n",
       "    </tr>\n",
       "    <tr>\n",
       "      <th>min</th>\n",
       "      <td>1.00000</td>\n",
       "      <td>5.263011e+08</td>\n",
       "      <td>20.000000</td>\n",
       "      <td>21.000000</td>\n",
       "      <td>1300.000000</td>\n",
       "      <td>1.000000</td>\n",
       "      <td>1.000000</td>\n",
       "      <td>1872.000000</td>\n",
       "      <td>1950.000000</td>\n",
       "      <td>0.000000</td>\n",
       "      <td>...</td>\n",
       "      <td>0.000000</td>\n",
       "      <td>0.000000</td>\n",
       "      <td>0.000000</td>\n",
       "      <td>0.000000</td>\n",
       "      <td>0.000000</td>\n",
       "      <td>0.000000</td>\n",
       "      <td>0.000000</td>\n",
       "      <td>1.000000</td>\n",
       "      <td>2006.000000</td>\n",
       "      <td>12789.000000</td>\n",
       "    </tr>\n",
       "    <tr>\n",
       "      <th>25%</th>\n",
       "      <td>733.25000</td>\n",
       "      <td>5.284770e+08</td>\n",
       "      <td>20.000000</td>\n",
       "      <td>58.000000</td>\n",
       "      <td>7440.250000</td>\n",
       "      <td>5.000000</td>\n",
       "      <td>5.000000</td>\n",
       "      <td>1954.000000</td>\n",
       "      <td>1965.000000</td>\n",
       "      <td>0.000000</td>\n",
       "      <td>...</td>\n",
       "      <td>0.000000</td>\n",
       "      <td>0.000000</td>\n",
       "      <td>0.000000</td>\n",
       "      <td>0.000000</td>\n",
       "      <td>0.000000</td>\n",
       "      <td>0.000000</td>\n",
       "      <td>0.000000</td>\n",
       "      <td>4.000000</td>\n",
       "      <td>2007.000000</td>\n",
       "      <td>129500.000000</td>\n",
       "    </tr>\n",
       "    <tr>\n",
       "      <th>50%</th>\n",
       "      <td>1465.50000</td>\n",
       "      <td>5.354536e+08</td>\n",
       "      <td>50.000000</td>\n",
       "      <td>68.000000</td>\n",
       "      <td>9436.500000</td>\n",
       "      <td>6.000000</td>\n",
       "      <td>5.000000</td>\n",
       "      <td>1973.000000</td>\n",
       "      <td>1993.000000</td>\n",
       "      <td>0.000000</td>\n",
       "      <td>...</td>\n",
       "      <td>0.000000</td>\n",
       "      <td>27.000000</td>\n",
       "      <td>0.000000</td>\n",
       "      <td>0.000000</td>\n",
       "      <td>0.000000</td>\n",
       "      <td>0.000000</td>\n",
       "      <td>0.000000</td>\n",
       "      <td>6.000000</td>\n",
       "      <td>2008.000000</td>\n",
       "      <td>160000.000000</td>\n",
       "    </tr>\n",
       "    <tr>\n",
       "      <th>75%</th>\n",
       "      <td>2197.75000</td>\n",
       "      <td>9.071811e+08</td>\n",
       "      <td>70.000000</td>\n",
       "      <td>80.000000</td>\n",
       "      <td>11555.250000</td>\n",
       "      <td>7.000000</td>\n",
       "      <td>6.000000</td>\n",
       "      <td>2001.000000</td>\n",
       "      <td>2004.000000</td>\n",
       "      <td>164.000000</td>\n",
       "      <td>...</td>\n",
       "      <td>168.000000</td>\n",
       "      <td>70.000000</td>\n",
       "      <td>0.000000</td>\n",
       "      <td>0.000000</td>\n",
       "      <td>0.000000</td>\n",
       "      <td>0.000000</td>\n",
       "      <td>0.000000</td>\n",
       "      <td>8.000000</td>\n",
       "      <td>2009.000000</td>\n",
       "      <td>213500.000000</td>\n",
       "    </tr>\n",
       "    <tr>\n",
       "      <th>max</th>\n",
       "      <td>2930.00000</td>\n",
       "      <td>1.007100e+09</td>\n",
       "      <td>190.000000</td>\n",
       "      <td>313.000000</td>\n",
       "      <td>215245.000000</td>\n",
       "      <td>10.000000</td>\n",
       "      <td>9.000000</td>\n",
       "      <td>2010.000000</td>\n",
       "      <td>2010.000000</td>\n",
       "      <td>1600.000000</td>\n",
       "      <td>...</td>\n",
       "      <td>1424.000000</td>\n",
       "      <td>742.000000</td>\n",
       "      <td>1012.000000</td>\n",
       "      <td>508.000000</td>\n",
       "      <td>576.000000</td>\n",
       "      <td>800.000000</td>\n",
       "      <td>17000.000000</td>\n",
       "      <td>12.000000</td>\n",
       "      <td>2010.000000</td>\n",
       "      <td>755000.000000</td>\n",
       "    </tr>\n",
       "  </tbody>\n",
       "</table>\n",
       "<p>8 rows × 39 columns</p>\n",
       "</div>"
      ],
      "text/plain": [
       "            Order           PID  MS SubClass  Lot Frontage       Lot Area  \\\n",
       "count  2930.00000  2.930000e+03  2930.000000   2440.000000    2930.000000   \n",
       "mean   1465.50000  7.144645e+08    57.387372     69.224590   10147.921843   \n",
       "std     845.96247  1.887308e+08    42.638025     23.365335    7880.017759   \n",
       "min       1.00000  5.263011e+08    20.000000     21.000000    1300.000000   \n",
       "25%     733.25000  5.284770e+08    20.000000     58.000000    7440.250000   \n",
       "50%    1465.50000  5.354536e+08    50.000000     68.000000    9436.500000   \n",
       "75%    2197.75000  9.071811e+08    70.000000     80.000000   11555.250000   \n",
       "max    2930.00000  1.007100e+09   190.000000    313.000000  215245.000000   \n",
       "\n",
       "       Overall Qual  Overall Cond   Year Built  Year Remod/Add  Mas Vnr Area  \\\n",
       "count   2930.000000   2930.000000  2930.000000     2930.000000   2907.000000   \n",
       "mean       6.094881      5.563140  1971.356314     1984.266553    101.896801   \n",
       "std        1.411026      1.111537    30.245361       20.860286    179.112611   \n",
       "min        1.000000      1.000000  1872.000000     1950.000000      0.000000   \n",
       "25%        5.000000      5.000000  1954.000000     1965.000000      0.000000   \n",
       "50%        6.000000      5.000000  1973.000000     1993.000000      0.000000   \n",
       "75%        7.000000      6.000000  2001.000000     2004.000000    164.000000   \n",
       "max       10.000000      9.000000  2010.000000     2010.000000   1600.000000   \n",
       "\n",
       "       ...  Wood Deck SF  Open Porch SF  Enclosed Porch   3Ssn Porch  \\\n",
       "count  ...   2930.000000    2930.000000     2930.000000  2930.000000   \n",
       "mean   ...     93.751877      47.533447       23.011604     2.592491   \n",
       "std    ...    126.361562      67.483400       64.139059    25.141331   \n",
       "min    ...      0.000000       0.000000        0.000000     0.000000   \n",
       "25%    ...      0.000000       0.000000        0.000000     0.000000   \n",
       "50%    ...      0.000000      27.000000        0.000000     0.000000   \n",
       "75%    ...    168.000000      70.000000        0.000000     0.000000   \n",
       "max    ...   1424.000000     742.000000     1012.000000   508.000000   \n",
       "\n",
       "       Screen Porch    Pool Area      Misc Val      Mo Sold      Yr Sold  \\\n",
       "count   2930.000000  2930.000000   2930.000000  2930.000000  2930.000000   \n",
       "mean      16.002048     2.243345     50.635154     6.216041  2007.790444   \n",
       "std       56.087370    35.597181    566.344288     2.714492     1.316613   \n",
       "min        0.000000     0.000000      0.000000     1.000000  2006.000000   \n",
       "25%        0.000000     0.000000      0.000000     4.000000  2007.000000   \n",
       "50%        0.000000     0.000000      0.000000     6.000000  2008.000000   \n",
       "75%        0.000000     0.000000      0.000000     8.000000  2009.000000   \n",
       "max      576.000000   800.000000  17000.000000    12.000000  2010.000000   \n",
       "\n",
       "           SalePrice  \n",
       "count    2930.000000  \n",
       "mean   180796.060068  \n",
       "std     79886.692357  \n",
       "min     12789.000000  \n",
       "25%    129500.000000  \n",
       "50%    160000.000000  \n",
       "75%    213500.000000  \n",
       "max    755000.000000  \n",
       "\n",
       "[8 rows x 39 columns]"
      ]
     },
     "execution_count": 459,
     "metadata": {},
     "output_type": "execute_result"
    }
   ],
   "source": [
    "# Группы определяются по значениям количественных переменных, \n",
    "# то есть по переменным из списка, определенного командой \n",
    "AH.describe(include=[np.number])"
   ]
  },
  {
   "cell_type": "code",
   "execution_count": 461,
   "id": "f4d6d88b-a9d0-4b2f-9dc3-833c7719f85e",
   "metadata": {},
   "outputs": [
    {
     "data": {
      "text/plain": [
       "1973.0"
      ]
     },
     "execution_count": 461,
     "metadata": {},
     "output_type": "execute_result"
    }
   ],
   "source": [
    "# ПЕРВОЕ СРАВНЕНИЕ ЦЕН ДОМОВ \"СТАРЫХ\" И \"НОВЫХ\"\n",
    "# Находим медиану для того что бы разделить данные на две группы \"старые\" и \"новые\" дома\n",
    "Me = AH['Year Built'].median()\n",
    "Me"
   ]
  },
  {
   "cell_type": "code",
   "execution_count": 463,
   "id": "544b68ba-a883-4b93-a8e0-6a863738ac65",
   "metadata": {},
   "outputs": [
    {
     "data": {
      "text/plain": [
       "2666    475000\n",
       "2737    415000\n",
       "1537    381000\n",
       "956     375000\n",
       "2214    359100\n",
       "         ...  \n",
       "2880     35311\n",
       "2843     35000\n",
       "726      34900\n",
       "1553     13100\n",
       "181      12789\n",
       "Name: SalePrice, Length: 1450, dtype: int64"
      ]
     },
     "execution_count": 463,
     "metadata": {},
     "output_type": "execute_result"
    }
   ],
   "source": [
    "# Вывожу группу со \"старыми\" домами\n",
    "# Проверяем нормальность\n",
    "AH_old = AH[(AH['Year Built'] < Me)]\n",
    "AH_old['SalePrice'].sort_values(ascending=False)"
   ]
  },
  {
   "cell_type": "code",
   "execution_count": 465,
   "id": "b9481e4d-1392-4caf-9b05-dc8c83277d54",
   "metadata": {},
   "outputs": [
    {
     "data": {
      "text/plain": [
       "1767    755000\n",
       "1760    745000\n",
       "2445    625000\n",
       "1063    615000\n",
       "44      611657\n",
       "         ...  \n",
       "2907     84500\n",
       "326      83500\n",
       "2366     83000\n",
       "372      82500\n",
       "2290     75190\n",
       "Name: SalePrice, Length: 1480, dtype: int64"
      ]
     },
     "execution_count": 465,
     "metadata": {},
     "output_type": "execute_result"
    }
   ],
   "source": [
    "# Вывожу группу со \"новыми\" домами\n",
    "# Проверяем нормальность\n",
    "AH_new = AH[(AH['Year Built'] >= Me)]\n",
    "AH_new['SalePrice'].sort_values(ascending=False)"
   ]
  },
  {
   "cell_type": "code",
   "execution_count": 467,
   "id": "7c521920-d959-42ff-9416-ea0bf00a7ca5",
   "metadata": {},
   "outputs": [],
   "source": [
    "# Назначаем переменую для данных\n",
    "data_year = (AH_new['SalePrice'], AH_old['SalePrice'])"
   ]
  },
  {
   "cell_type": "code",
   "execution_count": 469,
   "id": "09e3961f-8a0c-442b-a14f-2c6000f27c8c",
   "metadata": {},
   "outputs": [],
   "source": [
    "# Функция для вывода двух гистограмм одновременно\n",
    "bins = 10 # переменная определяющая кол-во столбцов в гистограмме\n",
    "def two_histograms(x,y):\n",
    "    \"\"\"\n",
    "    Функция, которая построит две гистограммы на одной картинке.\n",
    "    Дополнительно пунктирными линиями указываются средние значения выборок.\n",
    "    x: вектор pd.Series,\n",
    "    y: вектор pd.Series\n",
    "    \"\"\"\n",
    "    x.hist(alpha=0.5, weights=[1./len(x)]*len(x), bins=bins)\n",
    "    y.hist(alpha=0.5, weights=[1./len(y)]*len(y), bins=bins)\n",
    "    plt.axvline(x.mean(), color='red', alpha=0.8, linestyle='dashed')\n",
    "    plt.axvline(y.mean(), color='blue', alpha=0.8, linestyle='dashed')\n",
    "    plt.legend([x.name, y.name])\n",
    "# Проверяем равенство дисперсий"
   ]
  },
  {
   "cell_type": "code",
   "execution_count": 471,
   "id": "efe6e37d-d3c5-464f-b459-ea0bb2548a7f",
   "metadata": {},
   "outputs": [],
   "source": [
    "# назначим имена для легенды\n",
    "AH_new['SalePrice'].name, AH_old['SalePrice'].name = 'New', 'Old'"
   ]
  },
  {
   "cell_type": "code",
   "execution_count": 473,
   "id": "54987cb5-a8aa-458e-a94a-54f371ff348a",
   "metadata": {},
   "outputs": [
    {
     "data": {
      "image/png": "[encoded data removed]",
      "text/plain": [
       "<Figure size 640x480 with 1 Axes>"
      ]
     },
     "metadata": {},
     "output_type": "display_data"
    }
   ],
   "source": [
    "# Построим гисограммы при помощи определенной ранее функции\n",
    "two_histograms(*data_year)"
   ]
  },
  {
   "cell_type": "code",
   "execution_count": 475,
   "id": "fb40f254-62c9-4646-b584-a54917e63eb0",
   "metadata": {},
   "outputs": [],
   "source": [
    "# В распределении есть выбросы, которыми мы можем убрать\n",
    "# Уберем выбросы для новых домов\n",
    "AH_new = AH[(AH['Year Built'] >= Me) & (AH['SalePrice'] < 500000)]\n",
    "# назначим имена для легенды\n",
    "AH_new['SalePrice'].name = 'New'"
   ]
  },
  {
   "cell_type": "code",
   "execution_count": 477,
   "id": "dcade50c-779f-41b4-b29b-700bafda399b",
   "metadata": {},
   "outputs": [
    {
     "data": {
      "image/png": "[encoded data removed]",
      "text/plain": [
       "<Figure size 640x480 with 1 Axes>"
      ]
     },
     "metadata": {},
     "output_type": "display_data"
    }
   ],
   "source": [
    "# Построим гисограммы при помощи определенной ранее функции\n",
    "data_year = (AH_new['SalePrice'], AH_old['SalePrice'])\n",
    "two_histograms(*data_year)"
   ]
  },
  {
   "cell_type": "code",
   "execution_count": 479,
   "id": "7e979031-ce0e-4bd6-b8cd-02bb0782f4c8",
   "metadata": {},
   "outputs": [],
   "source": [
    "# В распределении нет очевидных выбросов, гистограммы колоколообразные существенных отклонений от нормальности не наблюдается\n",
    "# а это значит что мы можем применить критерий T Стюдента."
   ]
  },
  {
   "cell_type": "code",
   "execution_count": 481,
   "id": "be40e7c4-f8a3-4471-83aa-3e62575cbf8f",
   "metadata": {},
   "outputs": [
    {
     "name": "stdout",
     "output_type": "stream",
     "text": [
      "p-value:  False\n"
     ]
    }
   ],
   "source": [
    "# Перед применение критерия Стюдента проверим гипотезу о равенстве дисперсий с помощью критерия Флингнера-Килина\n",
    "res = stats.fligner(*data_year)\n",
    "print('p-value: ', res[1] > 0.05)"
   ]
  },
  {
   "cell_type": "code",
   "execution_count": 483,
   "id": "e8814029-1e8c-439c-97ac-136824c07dde",
   "metadata": {},
   "outputs": [],
   "source": [
    "# p-value низкое,  это  значит гипотезу о равенстве дисперсий отвергаем.\n",
    "# В двух выборках находятся разные наблюдаемые объекты то есть не связные."
   ]
  },
  {
   "cell_type": "code",
   "execution_count": 485,
   "id": "7970cff0-0e30-4f74-9ced-91ac0146ec2d",
   "metadata": {},
   "outputs": [
    {
     "data": {
      "text/plain": [
       "False"
      ]
     },
     "execution_count": 485,
     "metadata": {},
     "output_type": "execute_result"
    }
   ],
   "source": [
    "# Будем проверять с помощью ttest_ind с опцией equal_var=False\n",
    "res = stats.ttest_ind(*data_year, equal_var=False)\n",
    "res[1] > 0.05"
   ]
  },
  {
   "cell_type": "code",
   "execution_count": 447,
   "id": "22af343a-62fd-49f7-8d70-0f636fec3901",
   "metadata": {},
   "outputs": [],
   "source": [
    "# p-значение меньше чем α гипотезу о равенстве отвергаем, цены \"новых\" и \"старых\" домов отличаются статистически значимо"
   ]
  },
  {
   "cell_type": "code",
   "execution_count": 489,
   "id": "84f75213-26cd-4db0-88d9-5664f48d35a7",
   "metadata": {},
   "outputs": [
    {
     "data": {
      "text/plain": [
       "<Axes: xlabel='Old/New', ylabel='SalePrice'>"
      ]
     },
     "execution_count": 489,
     "metadata": {},
     "output_type": "execute_result"
    },
    {
     "data": {
      "image/png": "[encoded data removed]",
      "text/plain": [
       "<Figure size 640x480 with 1 Axes>"
      ]
     },
     "metadata": {},
     "output_type": "display_data"
    }
   ],
   "source": [
    "# Проилюстрирую результат ящиком с усами\n",
    "# Добавлю группирующую переменную для \"старых/новых\" домов\n",
    "AH['Old/New'] = AH['Year Built'] >= Me\n",
    "# Ящик с усами для \"старых(false)\" и \"новых(true)\" домов\n",
    "sns.boxplot(data=AH, y='SalePrice', x='Old/New', width=.5)"
   ]
  },
  {
   "cell_type": "code",
   "execution_count": 15,
   "id": "99d25e6f-111e-436a-85fd-05962548a30c",
   "metadata": {},
   "outputs": [],
   "source": [
    "# ВТОРОЕ СРАВНЕНИЕ\n",
    "# Влияет ли длина улицы граничащая с участком"
   ]
  },
  {
   "cell_type": "code",
   "execution_count": 491,
   "id": "35870041-fd82-49e8-87c5-8ef78cb6f9d3",
   "metadata": {},
   "outputs": [
    {
     "data": {
      "text/plain": [
       "1767    755000\n",
       "1760    745000\n",
       "2445    625000\n",
       "1063    615000\n",
       "44      611657\n",
       "         ...  \n",
       "2689     52500\n",
       "2879     51689\n",
       "727      44000\n",
       "1553     13100\n",
       "181      12789\n",
       "Name: SalePrice, Length: 1245, dtype: int64"
      ]
     },
     "execution_count": 491,
     "metadata": {},
     "output_type": "execute_result"
    }
   ],
   "source": [
    "# Вывожу группу с \"длинными\" участками\n",
    "AH_long = AH[AH['Lot Frontage'] >= Me_2]\n",
    "AH_long['SalePrice'].sort_values(ascending=False)"
   ]
  },
  {
   "cell_type": "code",
   "execution_count": 493,
   "id": "4b8ff91e-97ad-4bf4-9897-9cb8e961edd4",
   "metadata": {},
   "outputs": [
    {
     "data": {
      "text/plain": [
       "1637    591587\n",
       "2330    545224\n",
       "15      538000\n",
       "366     501837\n",
       "1701    500067\n",
       "         ...  \n",
       "1901     39300\n",
       "709      37900\n",
       "2880     35311\n",
       "2843     35000\n",
       "726      34900\n",
       "Name: SalePrice, Length: 1195, dtype: int64"
      ]
     },
     "execution_count": 493,
     "metadata": {},
     "output_type": "execute_result"
    }
   ],
   "source": [
    "# Вывожу группу с \"короткими\" участками\n",
    "AH_short = AH[AH['Lot Frontage'] < Me_2]\n",
    "AH_short['SalePrice'].sort_values(ascending=False)"
   ]
  },
  {
   "cell_type": "code",
   "execution_count": 495,
   "id": "0e7ffffb-5d68-44a5-967c-5c8e85334f0f",
   "metadata": {},
   "outputs": [],
   "source": [
    "# Назначаем переменую для данных\n",
    "data_frontage = (AH_short['SalePrice'], AH_long['SalePrice'])"
   ]
  },
  {
   "cell_type": "code",
   "execution_count": 369,
   "id": "e3eee585-edb0-401d-956a-d612efa06794",
   "metadata": {},
   "outputs": [],
   "source": [
    "# назначим имена для легенды\n",
    "AH_short['SalePrice'].name, AH_long['SalePrice'].name = 'Short', 'Long'"
   ]
  },
  {
   "cell_type": "code",
   "execution_count": 497,
   "id": "c20d0cdf-2a5c-4890-81af-fbd216ed114a",
   "metadata": {},
   "outputs": [
    {
     "data": {
      "image/png": "[encoded data removed]",
      "text/plain": [
       "<Figure size 640x480 with 1 Axes>"
      ]
     },
     "metadata": {},
     "output_type": "display_data"
    }
   ],
   "source": [
    "# Построим гисограммы при помощи определенной ранее функции\n",
    "two_histograms(*data_frontage)"
   ]
  },
  {
   "cell_type": "code",
   "execution_count": 499,
   "id": "c9a2b6dd-e8cd-4242-a37b-58c1068a45e3",
   "metadata": {},
   "outputs": [],
   "source": [
    "# В распределении есть выбросы, которыми мы можем убрать\n",
    "# Уберем выбросы для для участков с короткой улицей\n",
    "AH_short = AH[(AH['Lot Frontage'] < Me_2) & (AH['SalePrice'] < 500000)]"
   ]
  },
  {
   "cell_type": "code",
   "execution_count": 509,
   "id": "46c1c6b0-f723-4b46-b641-5b388dace4f5",
   "metadata": {},
   "outputs": [],
   "source": [
    "# назначим имена для легенды\n",
    "AH_short['SalePrice'].name, AH_long['SalePrice'].name = 'Short', 'Long'"
   ]
  },
  {
   "cell_type": "code",
   "execution_count": 511,
   "id": "9a608bd4-ae15-4a04-a472-8fcab1460a5f",
   "metadata": {},
   "outputs": [
    {
     "data": {
      "image/png": "[encoded data removed]",
      "text/plain": [
       "<Figure size 640x480 with 1 Axes>"
      ]
     },
     "metadata": {},
     "output_type": "display_data"
    }
   ],
   "source": [
    "# Построим гисограммы при помощи определенной ранее функции\n",
    "data_frontage = (AH_short['SalePrice'], AH_long['SalePrice'])\n",
    "two_histograms(*data_frontage)"
   ]
  },
  {
   "cell_type": "code",
   "execution_count": 397,
   "id": "6cf5bc1a-ce35-4587-aa91-e537e1ceedfd",
   "metadata": {},
   "outputs": [],
   "source": [
    "# В распределении нет очевидных выбросов, гистограммы колоколообразные, существенных отклонений от нормальности не наблюдается, сильной ассиметрие нет\n",
    "# а это значит что мы можем применить T-критерий Стюдента."
   ]
  },
  {
   "cell_type": "code",
   "execution_count": 503,
   "id": "31452b5a-05c3-44aa-904c-c85f36431fd9",
   "metadata": {},
   "outputs": [
    {
     "name": "stdout",
     "output_type": "stream",
     "text": [
      "p-value:  False\n"
     ]
    }
   ],
   "source": [
    "# Перед применение критерия Стюдента проверим гипотезу о равенстве дисперсий с помощью критерия Флингнера-Килина\n",
    "res = stats.fligner(*data_frontage)\n",
    "print('p-value: ', res[1] > 0.05)"
   ]
  },
  {
   "cell_type": "code",
   "execution_count": null,
   "id": "f3b8bda5-5e84-4d01-a42b-6620fb60a1a6",
   "metadata": {},
   "outputs": [],
   "source": [
    "# p-value низкое,  это  значит гипотезу о равенстве дисперсий отвергаем.\n",
    "# В двух выборках находятся разные наблюдаемые объекты то есть не связные."
   ]
  },
  {
   "cell_type": "code",
   "execution_count": 505,
   "id": "4d0e56d0-1bf9-4933-a61e-527b76d4b991",
   "metadata": {},
   "outputs": [
    {
     "data": {
      "text/plain": [
       "False"
      ]
     },
     "execution_count": 505,
     "metadata": {},
     "output_type": "execute_result"
    }
   ],
   "source": [
    "# Будем проверять с помощью ttest_ind с опцией equal_var=False\n",
    "res = stats.ttest_ind(*data_frontage, equal_var=False)\n",
    "res[1] > 0.05"
   ]
  },
  {
   "cell_type": "code",
   "execution_count": null,
   "id": "969b6622-e794-40d5-aacf-f538867f2157",
   "metadata": {},
   "outputs": [],
   "source": [
    "# p-значение меньше чем α гипотезу о равенстве отвергаем, \n",
    "# цены \"коротких\" и \"длинных\" участкоа отличаются статистически значимо"
   ]
  },
  {
   "cell_type": "code",
   "execution_count": 507,
   "id": "998a49ae-d87d-4635-9f8b-802e8e4bb998",
   "metadata": {},
   "outputs": [
    {
     "data": {
      "text/plain": [
       "<Axes: xlabel='Short/Long', ylabel='SalePrice'>"
      ]
     },
     "execution_count": 507,
     "metadata": {},
     "output_type": "execute_result"
    },
    {
     "data": {
      "image/png": "[encoded data removed]",
      "text/plain": [
       "<Figure size 640x480 with 1 Axes>"
      ]
     },
     "metadata": {},
     "output_type": "display_data"
    }
   ],
   "source": [
    "# Проилюстрирую результат ящиком с усами\n",
    "# Добавлю группирующую переменную для \"коротких/длинных\" участков\n",
    "# Добавлю группирующую переменную для \"коротких/длинных\" участков\n",
    "AH['Short/Long'] = AH['Lot Frontage'] >= Me_2\n",
    "# Ящик с усами для \"коротких(false)\" и \"длинных(true)\" участков\n",
    "sns.boxplot(data=AH, y='SalePrice', x='Short/Long', width=.5)"
   ]
  },
  {
   "cell_type": "code",
   "execution_count": 34,
   "id": "e00db709-bf7e-4bbb-a4ef-e67f86e37cf0",
   "metadata": {},
   "outputs": [],
   "source": [
    "# Мой github: https://github.com/0z0nize"
   ]
  }
 ],
 "metadata": {
  "kernelspec": {
   "display_name": "Python 3 (ipykernel)",
   "language": "python",
   "name": "python3"
  },
  "language_info": {
   "codemirror_mode": {
    "name": "ipython",
    "version": 3
   },
   "file_extension": ".py",
   "mimetype": "text/x-python",
   "name": "python",
   "nbconvert_exporter": "python",
   "pygments_lexer": "ipython3",
   "version": "3.12.4"
  }
 },
 "nbformat": 4,
 "nbformat_minor": 5
}
